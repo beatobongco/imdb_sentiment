{
 "cells": [
  {
   "cell_type": "markdown",
   "metadata": {},
   "source": [
    "# Tutorial Exercise: Yelp reviews"
   ]
  },
  {
   "cell_type": "markdown",
   "metadata": {},
   "source": [
    "## Introduction\n",
    "\n",
    "This exercise uses a small subset of the data from Kaggle's [Yelp Business Rating Prediction](https://www.kaggle.com/c/yelp-recsys-2013) competition.\n",
    "\n",
    "**Description of the data:**\n",
    "\n",
    "- **`yelp.csv`** contains the dataset. It is stored in the repository (in the **`data`** directory), so there is no need to download anything from the Kaggle website.\n",
    "- Each observation (row) in this dataset is a review of a particular business by a particular user.\n",
    "- The **stars** column is the number of stars (1 through 5) assigned by the reviewer to the business. (Higher stars is better.) In other words, it is the rating of the business by the person who wrote the review.\n",
    "- The **text** column is the text of the review.\n",
    "\n",
    "**Goal:** Predict the star rating of a review using **only** the review text.\n",
    "\n",
    "**Tip:** After each task, I recommend that you check the shape and the contents of your objects, to confirm that they match your expectations."
   ]
  },
  {
   "cell_type": "markdown",
   "metadata": {},
   "source": [
    "## Task 1\n",
    "\n",
    "Read **`yelp.csv`** into a pandas DataFrame and examine it."
   ]
  },
  {
   "cell_type": "code",
   "execution_count": 1,
   "metadata": {},
   "outputs": [],
   "source": [
    "import pandas as pd"
   ]
  },
  {
   "cell_type": "code",
   "execution_count": 2,
   "metadata": {},
   "outputs": [
    {
     "data": {
      "text/html": [
       "<div>\n",
       "<style scoped>\n",
       "    .dataframe tbody tr th:only-of-type {\n",
       "        vertical-align: middle;\n",
       "    }\n",
       "\n",
       "    .dataframe tbody tr th {\n",
       "        vertical-align: top;\n",
       "    }\n",
       "\n",
       "    .dataframe thead th {\n",
       "        text-align: right;\n",
       "    }\n",
       "</style>\n",
       "<table border=\"1\" class=\"dataframe\">\n",
       "  <thead>\n",
       "    <tr style=\"text-align: right;\">\n",
       "      <th></th>\n",
       "      <th>business_id</th>\n",
       "      <th>date</th>\n",
       "      <th>review_id</th>\n",
       "      <th>stars</th>\n",
       "      <th>text</th>\n",
       "      <th>type</th>\n",
       "      <th>user_id</th>\n",
       "      <th>cool</th>\n",
       "      <th>useful</th>\n",
       "      <th>funny</th>\n",
       "    </tr>\n",
       "  </thead>\n",
       "  <tbody>\n",
       "    <tr>\n",
       "      <th>0</th>\n",
       "      <td>9yKzy9PApeiPPOUJEtnvkg</td>\n",
       "      <td>2011-01-26</td>\n",
       "      <td>fWKvX83p0-ka4JS3dc6E5A</td>\n",
       "      <td>5</td>\n",
       "      <td>My wife took me here on my birthday for breakf...</td>\n",
       "      <td>review</td>\n",
       "      <td>rLtl8ZkDX5vH5nAx9C3q5Q</td>\n",
       "      <td>2</td>\n",
       "      <td>5</td>\n",
       "      <td>0</td>\n",
       "    </tr>\n",
       "    <tr>\n",
       "      <th>1</th>\n",
       "      <td>ZRJwVLyzEJq1VAihDhYiow</td>\n",
       "      <td>2011-07-27</td>\n",
       "      <td>IjZ33sJrzXqU-0X6U8NwyA</td>\n",
       "      <td>5</td>\n",
       "      <td>I have no idea why some people give bad review...</td>\n",
       "      <td>review</td>\n",
       "      <td>0a2KyEL0d3Yb1V6aivbIuQ</td>\n",
       "      <td>0</td>\n",
       "      <td>0</td>\n",
       "      <td>0</td>\n",
       "    </tr>\n",
       "    <tr>\n",
       "      <th>2</th>\n",
       "      <td>6oRAC4uyJCsJl1X0WZpVSA</td>\n",
       "      <td>2012-06-14</td>\n",
       "      <td>IESLBzqUCLdSzSqm0eCSxQ</td>\n",
       "      <td>4</td>\n",
       "      <td>love the gyro plate. Rice is so good and I als...</td>\n",
       "      <td>review</td>\n",
       "      <td>0hT2KtfLiobPvh6cDC8JQg</td>\n",
       "      <td>0</td>\n",
       "      <td>1</td>\n",
       "      <td>0</td>\n",
       "    </tr>\n",
       "    <tr>\n",
       "      <th>3</th>\n",
       "      <td>_1QQZuf4zZOyFCvXc0o6Vg</td>\n",
       "      <td>2010-05-27</td>\n",
       "      <td>G-WvGaISbqqaMHlNnByodA</td>\n",
       "      <td>5</td>\n",
       "      <td>Rosie, Dakota, and I LOVE Chaparral Dog Park!!...</td>\n",
       "      <td>review</td>\n",
       "      <td>uZetl9T0NcROGOyFfughhg</td>\n",
       "      <td>1</td>\n",
       "      <td>2</td>\n",
       "      <td>0</td>\n",
       "    </tr>\n",
       "    <tr>\n",
       "      <th>4</th>\n",
       "      <td>6ozycU1RpktNG2-1BroVtw</td>\n",
       "      <td>2012-01-05</td>\n",
       "      <td>1uJFq2r5QfJG_6ExMRCaGw</td>\n",
       "      <td>5</td>\n",
       "      <td>General Manager Scott Petello is a good egg!!!...</td>\n",
       "      <td>review</td>\n",
       "      <td>vYmM4KTsC8ZfQBg-j5MWkw</td>\n",
       "      <td>0</td>\n",
       "      <td>0</td>\n",
       "      <td>0</td>\n",
       "    </tr>\n",
       "  </tbody>\n",
       "</table>\n",
       "</div>"
      ],
      "text/plain": [
       "              business_id        date               review_id  stars  \\\n",
       "0  9yKzy9PApeiPPOUJEtnvkg  2011-01-26  fWKvX83p0-ka4JS3dc6E5A      5   \n",
       "1  ZRJwVLyzEJq1VAihDhYiow  2011-07-27  IjZ33sJrzXqU-0X6U8NwyA      5   \n",
       "2  6oRAC4uyJCsJl1X0WZpVSA  2012-06-14  IESLBzqUCLdSzSqm0eCSxQ      4   \n",
       "3  _1QQZuf4zZOyFCvXc0o6Vg  2010-05-27  G-WvGaISbqqaMHlNnByodA      5   \n",
       "4  6ozycU1RpktNG2-1BroVtw  2012-01-05  1uJFq2r5QfJG_6ExMRCaGw      5   \n",
       "\n",
       "                                                text    type  \\\n",
       "0  My wife took me here on my birthday for breakf...  review   \n",
       "1  I have no idea why some people give bad review...  review   \n",
       "2  love the gyro plate. Rice is so good and I als...  review   \n",
       "3  Rosie, Dakota, and I LOVE Chaparral Dog Park!!...  review   \n",
       "4  General Manager Scott Petello is a good egg!!!...  review   \n",
       "\n",
       "                  user_id  cool  useful  funny  \n",
       "0  rLtl8ZkDX5vH5nAx9C3q5Q     2       5      0  \n",
       "1  0a2KyEL0d3Yb1V6aivbIuQ     0       0      0  \n",
       "2  0hT2KtfLiobPvh6cDC8JQg     0       1      0  \n",
       "3  uZetl9T0NcROGOyFfughhg     1       2      0  \n",
       "4  vYmM4KTsC8ZfQBg-j5MWkw     0       0      0  "
      ]
     },
     "execution_count": 2,
     "metadata": {},
     "output_type": "execute_result"
    }
   ],
   "source": [
    "df = pd.read_csv('yelp.csv')\n",
    "df.head()"
   ]
  },
  {
   "cell_type": "markdown",
   "metadata": {},
   "source": [
    "## Task 2\n",
    "\n",
    "Create a new DataFrame that only contains the **5-star** and **1-star** reviews.\n",
    "\n",
    "- **Hint:** [How do I apply multiple filter criteria to a pandas DataFrame?](http://nbviewer.jupyter.org/github/justmarkham/pandas-videos/blob/master/pandas.ipynb#9.-How-do-I-apply-multiple-filter-criteria-to-a-pandas-DataFrame%3F-%28video%29) explains how to do this."
   ]
  },
  {
   "cell_type": "code",
   "execution_count": 3,
   "metadata": {},
   "outputs": [],
   "source": [
    "one_or_five = df[(df['stars'] == 1) | (df['stars'] == 5)]"
   ]
  },
  {
   "cell_type": "markdown",
   "metadata": {},
   "source": [
    "## Task 3\n",
    "\n",
    "Define X and y from the new DataFrame, and then split X and y into training and testing sets, using the **review text** as the only feature and the **star rating** as the response.\n",
    "\n",
    "- **Hint:** Keep in mind that X should be a pandas Series (not a DataFrame), since we will pass it to CountVectorizer in the task that follows."
   ]
  },
  {
   "cell_type": "code",
   "execution_count": 29,
   "metadata": {},
   "outputs": [
    {
     "name": "stdout",
     "output_type": "stream",
     "text": [
      "(3064, 2) <class 'pandas.core.frame.DataFrame'>\n",
      "(1022, 2) <class 'pandas.core.frame.DataFrame'>\n"
     ]
    },
    {
     "data": {
      "text/html": [
       "<div>\n",
       "<style scoped>\n",
       "    .dataframe tbody tr th:only-of-type {\n",
       "        vertical-align: middle;\n",
       "    }\n",
       "\n",
       "    .dataframe tbody tr th {\n",
       "        vertical-align: top;\n",
       "    }\n",
       "\n",
       "    .dataframe thead th {\n",
       "        text-align: right;\n",
       "    }\n",
       "</style>\n",
       "<table border=\"1\" class=\"dataframe\">\n",
       "  <thead>\n",
       "    <tr style=\"text-align: right;\">\n",
       "      <th></th>\n",
       "      <th>text</th>\n",
       "      <th>stars</th>\n",
       "    </tr>\n",
       "  </thead>\n",
       "  <tbody>\n",
       "    <tr>\n",
       "      <th>4756</th>\n",
       "      <td>I am not religious, but I will be the first pe...</td>\n",
       "      <td>5</td>\n",
       "    </tr>\n",
       "    <tr>\n",
       "      <th>1772</th>\n",
       "      <td>This place was incredible.  The staff was frie...</td>\n",
       "      <td>5</td>\n",
       "    </tr>\n",
       "    <tr>\n",
       "      <th>84</th>\n",
       "      <td>really, I can't believe this place has receive...</td>\n",
       "      <td>1</td>\n",
       "    </tr>\n",
       "    <tr>\n",
       "      <th>9482</th>\n",
       "      <td>Place is awsome.  Got the beef cheesesteak and...</td>\n",
       "      <td>5</td>\n",
       "    </tr>\n",
       "    <tr>\n",
       "      <th>8730</th>\n",
       "      <td>Yum! Healthy selections and delicious flavors!</td>\n",
       "      <td>5</td>\n",
       "    </tr>\n",
       "  </tbody>\n",
       "</table>\n",
       "</div>"
      ],
      "text/plain": [
       "                                                   text  stars\n",
       "4756  I am not religious, but I will be the first pe...      5\n",
       "1772  This place was incredible.  The staff was frie...      5\n",
       "84    really, I can't believe this place has receive...      1\n",
       "9482  Place is awsome.  Got the beef cheesesteak and...      5\n",
       "8730     Yum! Healthy selections and delicious flavors!      5"
      ]
     },
     "execution_count": 29,
     "metadata": {},
     "output_type": "execute_result"
    }
   ],
   "source": [
    "from sklearn.model_selection import train_test_split\n",
    "\n",
    "def st(p):\n",
    "    print(p.shape, type(p))\n",
    "\n",
    "ds = one_or_five[['text', 'stars']]\n",
    "tt = train_test_split(ds, random_state=1337)\n",
    "train = tt[0]\n",
    "test = tt[1]\n",
    "\n",
    "st(train)\n",
    "st(test)\n",
    "\n",
    "train.head()"
   ]
  },
  {
   "cell_type": "markdown",
   "metadata": {},
   "source": [
    "## Task 4\n",
    "\n",
    "Use CountVectorizer to create **document-term matrices** from X_train and X_test."
   ]
  },
  {
   "cell_type": "code",
   "execution_count": 30,
   "metadata": {},
   "outputs": [
    {
     "name": "stdout",
     "output_type": "stream",
     "text": [
      "(3064, 8444) <class 'scipy.sparse.csr.csr_matrix'>\n",
      "(1022, 8444) <class 'scipy.sparse.csr.csr_matrix'>\n",
      "(3064,) <class 'pandas.core.series.Series'>\n",
      "(1022,) <class 'pandas.core.series.Series'>\n"
     ]
    }
   ],
   "source": [
    "from sklearn.feature_extraction.text import CountVectorizer\n",
    "    \n",
    "cv = CountVectorizer(stop_words='english', strip_accents='unicode', min_df=2)\n",
    "newtrain = train['text'] \n",
    "X_train = cv.fit_transform(newtrain)\n",
    "X_test = cv.transform(test['text'])\n",
    "y_train = train['stars']\n",
    "y_test = test['stars']\n",
    "\n",
    "st(X_train)\n",
    "st(X_test)\n",
    "st(y_train)\n",
    "st(y_test)"
   ]
  },
  {
   "cell_type": "markdown",
   "metadata": {},
   "source": [
    "## Task 5\n",
    "\n",
    "Use multinomial Naive Bayes to **predict the star rating** for the reviews in the testing set, and then **calculate the accuracy** and **print the confusion matrix**.\n",
    "\n",
    "- **Hint:** [Evaluating a classification model](https://github.com/justmarkham/scikit-learn-videos/blob/master/09_classification_metrics.ipynb) explains how to interpret both classification accuracy and the confusion matrix."
   ]
  },
  {
   "cell_type": "code",
   "execution_count": 31,
   "metadata": {},
   "outputs": [
    {
     "name": "stdout",
     "output_type": "stream",
     "text": [
      "accuracy 0.9256360078277887\n"
     ]
    },
    {
     "data": {
      "text/plain": [
       "array([[144,  39],\n",
       "       [ 37, 802]])"
      ]
     },
     "execution_count": 31,
     "metadata": {},
     "output_type": "execute_result"
    }
   ],
   "source": [
    "from sklearn.naive_bayes import MultinomialNB \n",
    "from sklearn import metrics \n",
    "\n",
    "clf = MultinomialNB()\n",
    "clf.fit(X_train, y_train)\n",
    "print('accuracy', clf.score(X_test, y_test))\n",
    "y_pred = clf.predict(X_test)\n",
    "metrics.confusion_matrix(y_test, y_pred)"
   ]
  },
  {
   "cell_type": "markdown",
   "metadata": {},
   "source": [
    "## Task 6 (Challenge)\n",
    "\n",
    "Calculate the **null accuracy**, which is the classification accuracy that could be achieved by always predicting the most frequent class.\n",
    "\n",
    "- **Hint:** [Evaluating a classification model](https://github.com/justmarkham/scikit-learn-videos/blob/master/09_classification_metrics.ipynb) explains null accuracy and demonstrates two ways to calculate it, though only one of those ways will work in this case. Alternatively, you can come up with your own method to calculate null accuracy!"
   ]
  },
  {
   "cell_type": "code",
   "execution_count": 214,
   "metadata": {},
   "outputs": [
    {
     "name": "stdout",
     "output_type": "stream",
     "text": [
      "5    811\n",
      "1    211\n",
      "Name: stars, dtype: int64\n",
      "NULL accuracy 5    0.793542\n",
      "Name: stars, dtype: float64\n"
     ]
    }
   ],
   "source": [
    "print(y_test.value_counts())\n",
    "print('NULL accuracy', y_test.value_counts().head(1) / len(y_test))\n"
   ]
  },
  {
   "cell_type": "markdown",
   "metadata": {},
   "source": [
    "## Task 7 (Challenge)\n",
    "\n",
    "Browse through the review text of some of the **false positives** and **false negatives**. Based on your knowledge of how Naive Bayes works, do you have any ideas about why the model is incorrectly classifying these reviews?\n",
    "\n",
    "- **Hint:** [Evaluating a classification model](https://github.com/justmarkham/scikit-learn-videos/blob/master/09_classification_metrics.ipynb) explains the definitions of \"false positives\" and \"false negatives\".\n",
    "- **Hint:** Think about what a false positive means in this context, and what a false negative means in this context. What has scikit-learn defined as the \"positive class\"?"
   ]
  },
  {
   "cell_type": "code",
   "execution_count": 42,
   "metadata": {},
   "outputs": [
    {
     "name": "stdout",
     "output_type": "stream",
     "text": [
      "<class 'pandas.core.series.Series'> <class 'pandas.core.series.Series'> <class 'numpy.ndarray'>\n",
      "9299    The salad plates were not chilled... As they u...\n",
      "2618    Love this place, it's on our dinner rotation. ...\n",
      "9277    This place is fantastic.\\n\\nAbout the restaura...\n",
      "656     No matter where you go in the World if you are...\n",
      "7895    I grew up in Arizona and we went to Wongs ever...\n",
      "Name: text, dtype: object\n",
      "The salad plates were not chilled... As they usually are it however is a busy night but something's are expected at the olive garden... The food tasted like it was under a hot lamp for so long it tasted almost hard and also under cooked for the seafood... Not a great experience at the olive garden there are certain things expected... The expectations are not that high shouldnt be that hard to do.... ------ 1 5\n",
      "Love this place, it's on our dinner rotation. The owners and wait staff always greet us since we are regulars. Great place and cheap too. Try the #100 its the best ever. ------ 5 5\n",
      "This place is fantastic.\n",
      "\n",
      "About the restaurant itself.  It's right by downtown Phoenix, and in fact right next to a Light Rail stop--so keep this in mind, parking is metered and sometimes hard to come by easily, if you live by a light rail this may be the smarter option.  The place is seriously tiny, only about 6-8 groups of people can be seated at one time.  A slight drawback is that there is limited outdoor seating, which, given the predictably large lines even on weekdays, is a problem.  The Phoenix sun will make a 45 minute wait seem like an hour and a half wait.\n",
      "\n",
      "Now about the service.  I've always had a good experience with the people who work here.  The first time I came here, apparently one of the owners saw that I looked lost, because she came out and very kindly explained how people are seated, where I can go to get coffee in the meantime.  She even suggested I leave my cell phone number and she'll call me when my seat is ready, in case I'm shopping for example.  The waitresses always serve us quickly and never leave us hanging, and they're always smiling, which for some reason makes the experience so much better.\n",
      "\n",
      "Now for the best part.  I swear, they put crack in their food, because although their breakfast options are simple, they are out of this world.  The first time I came here I got the waffles.  Perhaps it's because they use REAL maple syrup, or all of the ingredients are organic and locally grown, but they make the best waffles I've ever had.  I don't even know how one makes a good waffle really, it seems pretty formulaic, but it's stellar.  I ordered it with bacon, which was also wonderful--the bacon used was the good stuff, not the excessively fatty bacon you buy at the supermarket.  Every bite is spectacular, and when you're done, you're full, but not the kind of full you'll often get at breakfast joints where you think you're going to explode or take a nap--full, but refreshed.\n",
      "\n",
      "The second time I came I got the pancakes.  Not the best pancake I've ever had, but still, superb and the real maple syrup just sends it through the roof.  The third time I went I got the waffle again (see above).\n",
      "\n",
      "Before I came here, I was excited about leaving Phoenix for New York due to the incredible array of dining options you get in that city.  Now I'm worried there won't be anything as good! ------ 5 5\n"
     ]
    }
   ],
   "source": [
    "# Since we have a non-series here `y_pred` we need to convert\n",
    "# And we need to drop the indexes because they are not aligned\n",
    "# Let's first save a reference to our data before doing this\n",
    "print(type(test['text']), type(y_test), type(y_pred))\n",
    "print(test['text'].head())\n",
    "print(test['text'][9299], '------', y_test[9299], y_pred[0])\n",
    "print(test['text'][2618], '------', y_test[2618], y_pred[1])\n",
    "print(test['text'][9277], '------', y_test[9277], y_pred[2])\n",
    "# pd.Series(y_pred)\n"
   ]
  },
  {
   "cell_type": "code",
   "execution_count": 70,
   "metadata": {},
   "outputs": [
    {
     "name": "stdout",
     "output_type": "stream",
     "text": [
      "                                                text  old_index  value\n",
      "0  The salad plates were not chilled... As they u...       9299     -4\n",
      "1  Love this place, it's on our dinner rotation. ...       2618      0\n",
      "2  This place is fantastic.\\n\\nAbout the restaura...       9277      0\n",
      "3  No matter where you go in the World if you are...        656      0\n",
      "4  I grew up in Arizona and we went to Wongs ever...       7895      0\n",
      "76\n",
      "                                                  text  old_index  value\n",
      "0    The salad plates were not chilled... As they u...       9299     -4\n",
      "57   Take your money elsewhere, unless you've got k...        119     -4\n",
      "94   Price reflects quality and service.  5/2010 pu...       8081     -4\n",
      "156  How very disappointing!  Nello's had a delight...       2625     -4\n",
      "212                 Poor service-small portions-pricey       5011     -4\n",
      "The salad plates were not chilled... As they usually are it however is a busy night but something's are expected at the olive garden... The food tasted like it was under a hot lamp for so long it tasted almost hard and also under cooked for the seafood... Not a great experience at the olive garden there are certain things expected... The expectations are not that high shouldnt be that hard to do.... actual: 1 predicted 5\n",
      "-------------------\n",
      "Take your money elsewhere, unless you've got kids.  I really try to like this place.  A family member signed me up for the discount card, so I've been going more often, but I just don't love it.  It's simply ok, but the prices are outrageous.  And the sounds and animatronics are a huge distraction from the so-so food.  The cocktails are alright, but, again, the price is not right.  The ony thing fun about the place for an adult is the gift shop and the light-up cocktail glasses (which cost extra.)  I've seen a lot of happy families in here though, so I bet it's better if you have little ones to bring along. actual: 1 predicted 5\n",
      "-------------------\n",
      "Price reflects quality and service.  5/2010 purchased wedding gown, brides maids and mothers (bride and groom mothers and grandmothers) dresses.  Girls were rude and our brides maids dresses seems and straps fell apart just before the wedding. actual: 1 predicted 5\n",
      "-------------------\n",
      "False negatives\n",
      "                                                  text  old_index  value\n",
      "12   Mid size American airport with very good organ...       8564      4\n",
      "65   Shoes, and purses, and make-up - o my!\\n\\nYour...       6052      4\n",
      "151  I have no idea why some people give bad review...          1      4\n",
      "168  I'm giving them a 5 star review for how they h...       5637      4\n",
      "209  One of our Lexus car keys/key fob was cracked ...       5805      4\n",
      "Mid size American airport with very good organization, very straight forward, no hassle. \n",
      "\n",
      "Security is a little slow and priority lane isn't really priority, it's more of \"let's make fun of first class flyers getting pissed\" lane, so let's welcome first class flyers with big giggle!! \n",
      "\n",
      "Many stores and food quality is okay. Seating areas are limited, at least for the Terminal 3 before security, so be aware. \n",
      "\n",
      "Lots of volunteers working here to guide you to the right place, there may be more volunteers than passengers. Haha. actual: 5 predicted 1\n",
      "-------------------\n",
      "Shoes, and purses, and make-up - o my!\n",
      "\n",
      "Your sales totally RAWK guys!  I mean, seriously - 50-70% off (gotta catch it just right, people) and then, an extra 30% off that?!  I feel like a wild thing, you make my heart sing.\n",
      "\n",
      "OK, now today, the most I found was 40% off - B U T - then there's MAC!  Oooooooo, ya baby.  All that glitters is NOT gold.  (ok, it's the small things...)\n",
      "\n",
      "It was still fun to look at all the purses.... And mark some for future reference.  Hey, I am a patient person.... I stop for red - tags, that is. actual: 5 predicted 1\n",
      "-------------------\n",
      "I have no idea why some people give bad reviews about this place. It goes to show you, you can please everyone. They are probably griping about something that their own fault...there are many people like that.\n",
      "\n",
      "In any case, my friend and I arrived at about 5:50 PM this past Sunday. It was pretty crowded, more than I thought for a Sunday evening and thought we would have to wait forever to get a seat but they said we'll be seated when the girl comes back from seating someone else. We were seated at 5:52 and the waiter came and got our drink orders. Everyone was very pleasant from the host that seated us to the waiter to the server. The prices were very good as well. We placed our orders once we decided what we wanted at 6:02. We shared the baked spaghetti calzone and the small \"Here's The Beef\" pizza so we can both try them. The calzone was huge and we got the smallest one (personal) and got the small 11\" pizza. Both were awesome! My friend liked the pizza better and I liked the calzone better. The calzone does have a sweetish sauce but that's how I like my sauce!\n",
      "\n",
      "We had to box part of the pizza to take it home and we were out the door by 6:42. So, everything was great and not like these bad reviewers. That goes to show you that  you have to try these things yourself because all these bad reviewers have some serious issues. actual: 5 predicted 1\n",
      "-------------------\n"
     ]
    }
   ],
   "source": [
    "# 1 - 5 = -4 ...should be 1 but was 5 (-4's are false positives) \n",
    "# 5 - 1 = 4 ...should be 5 but was 1 (4's are false negative)\n",
    "\n",
    "res = test['text'].reset_index()\n",
    "fpn = pd.DataFrame({'text': res['text'], 'old_index': res['index'], 'value': y_test.reset_index(drop=True) - pd.Series(y_pred)})\n",
    "\n",
    "print(fpn.head())\n",
    "\n",
    "false_positives = fpn[fpn['value'] == -4]\n",
    "false_negatives = fpn[fpn['value'] == 4]\n",
    "\n",
    "# Should match how many errors we actually have\n",
    "print(len(false_positives) + len(false_negatives))\n",
    "\n",
    "def print_loc(idx):\n",
    "    f = fpn.iloc[idx]\n",
    "    print(f['text'], 'actual:', y_test[f['old_index']], 'predicted', y_pred[idx])\n",
    "    print('-------------------')\n",
    "\n",
    "# Examine some false positives\n",
    "print(false_positives.head())\n",
    "print_loc(0)\n",
    "print_loc(57)\n",
    "print_loc(94)\n",
    "\n",
    "# Examine some false negatives\n",
    "print('False negatives')\n",
    "print(false_negatives.head())\n",
    "print_loc(12)\n",
    "print_loc(65)\n",
    "print_loc(151)"
   ]
  },
  {
   "cell_type": "markdown",
   "metadata": {},
   "source": [
    "## Task 8 (Challenge)\n",
    "\n",
    "Calculate which 10 tokens are the most predictive of **5-star reviews**, and which 10 tokens are the most predictive of **1-star reviews**.\n",
    "\n",
    "- **Hint:** Naive Bayes automatically counts the number of times each token appears in each class, as well as the number of observations in each class. You can access these counts via the `feature_count_` and `class_count_` attributes of the Naive Bayes model object."
   ]
  },
  {
   "cell_type": "code",
   "execution_count": 83,
   "metadata": {},
   "outputs": [
    {
     "name": "stdout",
     "output_type": "stream",
     "text": [
      "TOP 10 tokens indicating bad review\n",
      "     feature_names  star_1  star_5\n",
      "3061          food   461.0  1258.0\n",
      "5643         place   368.0  1462.0\n",
      "4416          like   337.0   932.0\n",
      "4152          just   322.0   936.0\n",
      "6684       service   238.0   688.0\n",
      "7670          time   234.0   798.0\n",
      "3352          good   234.0  1234.0\n",
      "2378           don   190.0   508.0\n",
      "4866       minutes   176.0    96.0\n",
      "3364           got   176.0   358.0\n",
      "TOP 10 tokens indicating good review\n",
      "     feature_names  star_1  star_5\n",
      "3411         great    74.0  1537.0\n",
      "5643         place   368.0  1462.0\n",
      "3061          food   461.0  1258.0\n",
      "3352          good   234.0  1234.0\n",
      "4152          just   322.0   936.0\n",
      "4416          like   337.0   932.0\n",
      "4535          love    38.0   831.0\n",
      "7670          time   234.0   798.0\n",
      "8029            ve   118.0   733.0\n",
      "811           best    53.0   730.0\n"
     ]
    }
   ],
   "source": [
    "fn = cv.get_feature_names()\n",
    "star_1 = clf.feature_count_[0]\n",
    "star_5 = clf.feature_count_[1]\n",
    "\n",
    "\n",
    "top_df = pd.DataFrame({'feature_names': fn, 'star_1': star_1, 'star_5': star_5})\n",
    "\n",
    "top_bad = top_df.sort_values('star_1', ascending=False)\n",
    "top_good = top_df.sort_values('star_5', ascending=False)\n",
    "\n",
    "print('TOP 10 tokens indicating bad review')\n",
    "print(top_bad[:10])\n",
    "\n",
    "print('TOP 10 tokens indicating good review')\n",
    "print(top_good[:10])"
   ]
  },
  {
   "cell_type": "markdown",
   "metadata": {},
   "source": [
    "## Task 9 (Challenge)\n",
    "\n",
    "Up to this point, we have framed this as a **binary classification problem** by only considering the 5-star and 1-star reviews. Now, let's repeat the model building process using all reviews, which makes this a **5-class classification problem**.\n",
    "\n",
    "Here are the steps:\n",
    "\n",
    "- Define X and y using the original DataFrame. (y should contain 5 different classes.)\n",
    "- Split X and y into training and testing sets.\n",
    "- Create document-term matrices using CountVectorizer.\n",
    "- Calculate the testing accuracy of a Multinomial Naive Bayes model.\n",
    "- Compare the testing accuracy with the null accuracy, and comment on the results.\n",
    "- Print the confusion matrix, and comment on the results. (This [Stack Overflow answer](http://stackoverflow.com/a/30748053/1636598) explains how to read a multi-class confusion matrix.)\n",
    "- Print the [classification report](http://scikit-learn.org/stable/modules/model_evaluation.html#classification-report), and comment on the results. If you are unfamiliar with the terminology it uses, research the terms, and then try to figure out how to calculate these metrics manually from the confusion matrix!"
   ]
  },
  {
   "cell_type": "code",
   "execution_count": null,
   "metadata": {},
   "outputs": [],
   "source": []
  }
 ],
 "metadata": {
  "kernelspec": {
   "display_name": "Python 3",
   "language": "python",
   "name": "python3"
  },
  "language_info": {
   "codemirror_mode": {
    "name": "ipython",
    "version": 3
   },
   "file_extension": ".py",
   "mimetype": "text/x-python",
   "name": "python",
   "nbconvert_exporter": "python",
   "pygments_lexer": "ipython3",
   "version": "3.6.4"
  }
 },
 "nbformat": 4,
 "nbformat_minor": 1
}
